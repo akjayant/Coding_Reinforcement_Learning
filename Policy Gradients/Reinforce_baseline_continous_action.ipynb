{
 "cells": [
  {
   "cell_type": "markdown",
   "metadata": {},
   "source": [
    "## Policy Gradient Implementations - REINFORCE with Average MC return baseline\n",
    "###  Continuous Actions case"
   ]
  },
  {
   "cell_type": "code",
   "execution_count": 1,
   "metadata": {},
   "outputs": [],
   "source": [
    "import gym\n",
    "import torch\n",
    "import torch.nn as nn\n",
    "import torch.optim as optim\n",
    "import torch.nn.functional as F\n",
    "from gym import wrappers\n",
    "from torch.distributions import Normal\n",
    "from torch.utils.tensorboard import SummaryWriter\n",
    "import numpy as np\n",
    "import matplotlib.pyplot as plt\n",
    "from matplotlib.lines import Line2D\n",
    "import pandas as pd"
   ]
  },
  {
   "cell_type": "code",
   "execution_count": 2,
   "metadata": {},
   "outputs": [],
   "source": [
    "\n",
    "class PolicyNetwork(nn.Module):  \n",
    "    def __init__(self,num_states, num_actions, hidden_size):\n",
    "        super(PolicyNetwork,self).__init__()\n",
    "        self.num_states = num_states\n",
    "        self.num_actions = num_actions\n",
    "        \n",
    "        #Policy Network\n",
    "        self.policy_linear1 = nn.Linear(num_states,hidden_size)\n",
    "        self.policy_linear2 = nn.Linear(hidden_size,hidden_size)\n",
    "        self.policy_linear3 = nn.Linear(hidden_size,num_actions)\n",
    "        \n",
    "        \n",
    "    def forward(self,state):\n",
    "        x1 = self.policy_linear1(state)\n",
    "        x1 = F.relu(x1)\n",
    "        x1 = self.policy_linear2(x1)\n",
    "        x1 = F.relu(x1)\n",
    "        x1 = self.policy_linear3(x1)\n",
    "        mu_out = torch.tanh(x1)\n",
    "        var_out = F.softplus(x1)\n",
    "        return mu_out,var_out\n",
    "\n",
    "\n",
    "    \n",
    "    "
   ]
  },
  {
   "cell_type": "code",
   "execution_count": 3,
   "metadata": {},
   "outputs": [],
   "source": [
    "def update_gradients(gamma,ep_rewards,ep_logits,ep_entropies):\n",
    "    mc_return = []\n",
    "    p_loss = []\n",
    "    loss=0\n",
    "    G = 0\n",
    "    for r in reversed(range(len(ep_rewards))):\n",
    "        G = ep_rewards[r] + gamma*G\n",
    "        mc_return.insert(0,G)\n",
    "    mc_return = torch.tensor(mc_return)\n",
    "    advantage_returns = (mc_return - mc_return.mean())/mc_return.std()\n",
    "    #print((mc_return))\n",
    "    for lp, re in zip(ep_logits, advantage_returns):\n",
    "        p_loss.append( - lp * re)\n",
    "    \n",
    "    optim_policy.zero_grad() \n",
    "    #trying entropy regularization\n",
    "    #print(ep_entropies)\n",
    "    loss = torch.stack(p_loss).sum() + 0.0001*ep_entropies\n",
    "    loss.backward()\n",
    "    #plot_grad_flow_v2(p_net.named_parameters())\n",
    "    optim_policy.step()\n",
    "\n",
    "    \n"
   ]
  },
  {
   "cell_type": "code",
   "execution_count": 4,
   "metadata": {},
   "outputs": [],
   "source": [
    "def train(env):\n",
    "    gamma = 0.99\n",
    "    max_episodes = 4000\n",
    "    max_steps = 5000\n",
    "    running_reward = 0\n",
    "    plot_rewards = []\n",
    "    for ep in range(max_episodes):\n",
    "        ep_rewards =[]\n",
    "        ep_logits = []\n",
    "        ep_entropies = []\n",
    "\n",
    "        current_reward = 0\n",
    "        state = env.reset()\n",
    "        \n",
    "        for step in range(max_steps):\n",
    "            #print(type(state))\n",
    "            state = torch.from_numpy(state).float().unsqueeze(0)\n",
    "        \n",
    "            mu_out,var_out = p_net.forward(state)\n",
    "            #print(mu_out,var_out)\n",
    "            #Sample next action according normal distribution we trying to fit\n",
    "            dist_obj = Normal(mu_out[0],var_out[0])\n",
    "            sampled_action_tensor = dist_obj.sample()\n",
    "            sampled_action = np.clip(sampled_action_tensor.detach().numpy(),-1,1)\n",
    "            #print(sampled_action,\"/n\")\n",
    "            next_state,reward,done,_ = env.step(sampled_action)\n",
    "            log_prob = dist_obj.log_prob(sampled_action_tensor)\n",
    "            \n",
    "            entropy = dist_obj.entropy()\n",
    "            ep_rewards.append(reward)\n",
    "            ep_logits.append(log_prob)\n",
    "            ep_entropies.append(entropy)\n",
    "            current_reward += reward\n",
    "            state = next_state\n",
    "            if done:\n",
    "                break\n",
    "            \n",
    "        running_reward = 0.05 * current_reward + (1 - 0.05) * running_reward\n",
    "        if ep%100==0:\n",
    "            print(ep)\n",
    "            print(\"Running reward = \",running_reward)\n",
    "        plot_rewards.append(running_reward)\n",
    "        #Update the parameters\n",
    "        ep_entropies = torch.cat(ep_entropies)\n",
    "        update_gradients(gamma,ep_rewards,ep_logits,ep_entropies.sum())\n",
    "        writer.add_scalar(\"Reward \",running_reward)\n",
    "        if running_reward >env.spec.reward_threshold:\n",
    "            print(\"Solved in \",ep)\n",
    "    return plot_rewards, dist_obj\n",
    "    \n",
    "        "
   ]
  },
  {
   "cell_type": "markdown",
   "metadata": {},
   "source": [
    "### Initiate"
   ]
  },
  {
   "cell_type": "code",
   "execution_count": 5,
   "metadata": {
    "scrolled": true
   },
   "outputs": [
    {
     "name": "stdout",
     "output_type": "stream",
     "text": [
      "0\n",
      "Running reward =  -15.998954625581717\n",
      "100\n",
      "Running reward =  -283.15891990341976\n",
      "200\n",
      "Running reward =  -180.7568360920668\n",
      "300\n",
      "Running reward =  -104.17879208943522\n",
      "400\n",
      "Running reward =  -61.150298633167786\n",
      "500\n",
      "Running reward =  -34.49405930880422\n",
      "600\n",
      "Running reward =  -24.958984693123995\n",
      "700\n",
      "Running reward =  -59.94925746704198\n",
      "800\n",
      "Running reward =  7.188733355850732\n",
      "900\n",
      "Running reward =  41.4612412510419\n",
      "1000\n",
      "Running reward =  -83.40972217011624\n",
      "1100\n",
      "Running reward =  -79.2843943775053\n",
      "1200\n",
      "Running reward =  8.098799483185804\n",
      "1300\n",
      "Running reward =  20.19650396325632\n",
      "1400\n",
      "Running reward =  5.423455749569729\n",
      "1500\n",
      "Running reward =  -8.851955399337998\n",
      "1600\n",
      "Running reward =  -5.299342610793943\n",
      "1700\n",
      "Running reward =  -66.36293037833894\n",
      "1800\n",
      "Running reward =  -31.898334548262422\n",
      "1900\n",
      "Running reward =  -49.47875422967405\n",
      "2000\n",
      "Running reward =  -115.49792301197255\n",
      "2100\n",
      "Running reward =  -104.0271110384195\n",
      "2200\n",
      "Running reward =  -106.00761710026569\n",
      "2300\n",
      "Running reward =  -141.06643357090525\n",
      "2400\n",
      "Running reward =  -50.89630277061992\n",
      "2500\n",
      "Running reward =  -81.84476036013906\n",
      "2600\n",
      "Running reward =  -90.99219445747208\n",
      "2700\n",
      "Running reward =  -94.24796474459026\n",
      "2800\n",
      "Running reward =  -104.62753768626588\n",
      "2900\n",
      "Running reward =  -140.3981887298394\n",
      "3000\n",
      "Running reward =  -140.64740608149845\n",
      "3100\n",
      "Running reward =  -135.93457783993316\n",
      "3200\n",
      "Running reward =  -117.6196641491641\n",
      "3300\n",
      "Running reward =  -138.4131306023301\n",
      "3400\n",
      "Running reward =  -136.7991988163488\n",
      "3500\n",
      "Running reward =  -133.70067262156311\n",
      "3600\n",
      "Running reward =  -123.55458719447664\n",
      "3700\n",
      "Running reward =  -130.29746260587515\n",
      "3800\n",
      "Running reward =  -141.02432167877265\n",
      "3900\n",
      "Running reward =  -131.03993356151278\n"
     ]
    }
   ],
   "source": [
    "#device = set_device()\n",
    "p_net = PolicyNetwork(8,2,256)\n",
    "optim_policy= optim.Adam(p_net.parameters(), lr=9e-4)\n",
    "writer = SummaryWriter()\n",
    "p_net.train()\n",
    "env = gym.make('LunarLanderContinuous-v2')\n",
    "env.seed(223)\n",
    "plot_rewards, dist_obj = train(env)\n",
    "writer.flush()\n",
    "env.close()"
   ]
  },
  {
   "cell_type": "markdown",
   "metadata": {},
   "source": [
    "### Plot  (REINFORCE with baseline is not so good for continuous action domains)"
   ]
  },
  {
   "cell_type": "code",
   "execution_count": 10,
   "metadata": {},
   "outputs": [
    {
     "data": {
      "image/png": "[encoded data removed]",
      "text/plain": [
       "<Figure size 432x288 with 1 Axes>"
      ]
     },
     "metadata": {
      "needs_background": "light"
     },
     "output_type": "display_data"
    }
   ],
   "source": [
    "plt.plot(np.arange(0,4000),plot_rewards)\n",
    "plt.plot(np.arange(0,4000),pd.Series(plot_rewards).rolling(200).mean())\n",
    "plt.show()"
   ]
  },
  {
   "cell_type": "code",
   "execution_count": null,
   "metadata": {},
   "outputs": [],
   "source": []
  }
 ],
 "metadata": {
  "kernelspec": {
   "display_name": "Python 3",
   "language": "python",
   "name": "python3"
  },
  "language_info": {
   "codemirror_mode": {
    "name": "ipython",
    "version": 3
   },
   "file_extension": ".py",
   "mimetype": "text/x-python",
   "name": "python",
   "nbconvert_exporter": "python",
   "pygments_lexer": "ipython3",
   "version": "3.7.3"
  }
 },
 "nbformat": 4,
 "nbformat_minor": 4
}
