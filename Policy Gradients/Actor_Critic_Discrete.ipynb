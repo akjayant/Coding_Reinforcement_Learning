{
 "cells": [
  {
   "cell_type": "markdown",
   "metadata": {},
   "source": [
    "### Policy Gradients : Actor Critic (Online version i.e learning at each step of episode)\n",
    "#### Discrete Action Domain"
   ]
  },
  {
   "cell_type": "code",
   "execution_count": 10,
   "metadata": {},
   "outputs": [],
   "source": [
    "import gym\n",
    "import torch\n",
    "import torch.nn as nn\n",
    "import torch.optim as optim\n",
    "import torch.nn.functional as F\n",
    "from gym import wrappers\n",
    "from torch.distributions import Categorical\n",
    "from torch.utils.tensorboard import SummaryWriter\n",
    "import numpy as np\n",
    "import matplotlib.pyplot as plt\n",
    "import pandas as pd"
   ]
  },
  {
   "cell_type": "code",
   "execution_count": 11,
   "metadata": {},
   "outputs": [],
   "source": [
    "class ActorCriticNetwork(nn.Module):\n",
    "    def __init__(self, input_size, hidden_size, n_actions):\n",
    "        super(ActorCriticNetwork,self).__init__()\n",
    "        self.linear1 = nn.Linear(input_size,hidden_size)\n",
    "        self.linear2 = nn.Linear(hidden_size,hidden_size)\n",
    "        ## Shared network for actor critic\n",
    "        self.actor = nn.Linear(hidden_size,n_actions)\n",
    "        self.critic = nn.Linear(hidden_size,1)\n",
    "    def forward(self,state):\n",
    "        x = F.relu(self.linear1(state))\n",
    "        x = F.relu(self.linear2(x))\n",
    "        return F.softmax(self.actor(x),dim=1),self.critic(x)\n",
    "    \n"
   ]
  },
  {
   "cell_type": "code",
   "execution_count": 12,
   "metadata": {},
   "outputs": [],
   "source": [
    "def update_gradients(state,next_state,reward,done,log_prob):\n",
    "    reward = torch.tensor(reward,dtype=float)\n",
    "    state.to(device)\n",
    "    next_state.to(device)\n",
    "    reward.to(device)\n",
    "    log_prob.to(device)\n",
    "    done.to(device)\n",
    "    ac_optim.zero_grad()\n",
    "    gamma = 0.99\n",
    "    _,value_state = ac_net(state)\n",
    "    _,value_next_state = ac_net(next_state)\n",
    "    \n",
    "    td_term = reward + gamma*value_next_state*(1-done) - value_state\n",
    "    critic_loss = td_term**2\n",
    "    policy_loss = -td_term*log_prob\n",
    "    ### Since tensor computational graphs are mapped , this sum of loss will propgate loss accordingly\n",
    "    loss = critic_loss + policy_loss\n",
    "    loss.backward()\n",
    "    ac_optim.step()\n",
    "    \n",
    "def train(env,max_episodes,max_steps):\n",
    "    running_reward = 0\n",
    "    plot_rewards = []\n",
    "    for ep in range(max_episodes):\n",
    "        state = env.reset()\n",
    "        current_reward = 0\n",
    "        for step in range(max_steps):\n",
    "            state = torch.from_numpy(state).float().unsqueeze(0).to(device)\n",
    "            prob,_ = ac_net(state)\n",
    "            ## Sample action from softmax output of network\n",
    "            dist_object = Categorical(prob)\n",
    "            sampled_action_tensor = dist_object.sample()\n",
    "            action_log_prob = dist_object.log_prob(sampled_action_tensor)\n",
    "            sampled_action = sampled_action_tensor.item()\n",
    "            \n",
    "            #Run env\n",
    "            next_state,reward,done,_ = env.step(sampled_action)\n",
    "            if done:\n",
    "                done = 1\n",
    "            else:\n",
    "                done = 0\n",
    "            done = torch.tensor(done)\n",
    "            #updating grads in online fashion \n",
    "            update_gradients(state,torch.from_numpy(next_state).float().unsqueeze(0).to(device),reward,done,action_log_prob)\n",
    "            \n",
    "            current_reward += reward\n",
    "            if done:\n",
    "                break\n",
    "            state=next_state\n",
    "            \n",
    "            \n",
    "        running_reward = 0.05 * current_reward + (1 - 0.05) * running_reward\n",
    "        if ep%100==0:\n",
    "            print(\"Running reward = \",running_reward)\n",
    "        plot_rewards.append(running_reward)\n",
    "        writer.add_scalar(\"Reward \",running_reward)\n",
    "        if running_reward >env.spec.reward_threshold:\n",
    "            print(\"Solved in \",ep)\n",
    "        \n",
    "    return plot_rewards\n",
    "        \n",
    "            \n",
    "def set_device():\n",
    "    device = torch.device('cuda:0') if torch.cuda.is_available() else torch.device('cpu')\n",
    "    print(\"RUNNING ON \",device)\n",
    "    return device\n",
    "                       \n",
    "            \n",
    "             \n",
    "            \n",
    "    "
   ]
  },
  {
   "cell_type": "code",
   "execution_count": null,
   "metadata": {},
   "outputs": [],
   "source": [
    "device = set_device()\n",
    "env = gym.make(\"LunarLander-v2\")\n",
    "env.seed(221)\n",
    "ac_net = ActorCriticNetwork(8,1024,4).to(device)\n",
    "ac_optim = optim.Adam(ac_net.parameters(),lr=1e-5)\n",
    "writer = SummaryWriter()\n",
    "plot_rewards = train(env,2500,10000)\n",
    "writer.flush()"
   ]
  },
  {
   "cell_type": "code",
   "execution_count": 14,
   "metadata": {},
   "outputs": [
    {
     "data": {
      "image/png": "[encoded data removed]",
      "text/plain": [
       "<Figure size 432x288 with 1 Axes>"
      ]
     },
     "metadata": {
      "needs_background": "light"
     },
     "output_type": "display_data"
    }
   ],
   "source": [
    "plt.plot(np.arange(0,2500),plot_rewards)\n",
    "plt.plot(np.arange(0,2500),pd.Series(plot_rewards).rolling(100).mean())\n",
    "plt.show()"
   ]
  }
 ],
 "metadata": {
  "kernelspec": {
   "display_name": "Python 3",
   "language": "python",
   "name": "python3"
  },
  "language_info": {
   "codemirror_mode": {
    "name": "ipython",
    "version": 3
   },
   "file_extension": ".py",
   "mimetype": "text/x-python",
   "name": "python",
   "nbconvert_exporter": "python",
   "pygments_lexer": "ipython3",
   "version": "3.7.3"
  }
 },
 "nbformat": 4,
 "nbformat_minor": 4
}
