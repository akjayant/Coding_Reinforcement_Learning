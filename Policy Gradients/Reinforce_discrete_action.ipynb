{
 "cells": [
  {
   "cell_type": "markdown",
   "metadata": {},
   "source": [
    "## Policy Gradient Implementations - REINFORCE with Average MC return baseline"
   ]
  },
  {
   "cell_type": "code",
   "execution_count": 6,
   "metadata": {},
   "outputs": [],
   "source": [
    "import gym\n",
    "import torch\n",
    "import torch.nn as nn\n",
    "import torch.optim as optim\n",
    "import torch.nn.functional as F\n",
    "from gym import wrappers\n",
    "from torch.distributions import Categorical\n",
    "from torch.utils.tensorboard import SummaryWriter\n",
    "import numpy as np\n",
    "import matplotlib.pyplot as plt\n",
    "import pandas as pd"
   ]
  },
  {
   "cell_type": "code",
   "execution_count": 7,
   "metadata": {},
   "outputs": [],
   "source": [
    "\n",
    "class PolicyNetwork(nn.Module):  \n",
    "    def __init__(self,num_states, num_actions, hidden_size):\n",
    "        super(PolicyNetwork,self).__init__()\n",
    "        self.num_states = num_states\n",
    "        self.num_actions = num_actions\n",
    "        \n",
    "        #Policy Network\n",
    "        self.policy_linear1 = nn.Linear(num_states,hidden_size)\n",
    "        self.policy_linear2 = nn.Linear(hidden_size,num_actions)\n",
    "        \n",
    "        \n",
    "    def forward(self,state):\n",
    "        x1 = self.policy_linear1(state)\n",
    "        x1 = F.relu(x1)\n",
    "        x1 = self.policy_linear2(x1)\n",
    "        policy_out = F.softmax(x1,dim=1)\n",
    "        \n",
    "        return policy_out\n",
    "\n",
    "\n",
    "    \n",
    "    "
   ]
  },
  {
   "cell_type": "code",
   "execution_count": 8,
   "metadata": {},
   "outputs": [],
   "source": [
    "def update_gradients(gamma,ep_rewards,ep_logits,ep_entropies):\n",
    "    mc_return = []\n",
    "    p_loss = []\n",
    "    loss=0\n",
    "    G = 0\n",
    "    for r in reversed(range(len(ep_rewards))):\n",
    "        G = ep_rewards[r] + gamma*G\n",
    "        mc_return.insert(0,G)\n",
    "    mc_return = torch.tensor(mc_return)\n",
    "    advantage_returns = (mc_return - mc_return.mean())/mc_return.std()\n",
    "    #print((mc_return))\n",
    "    for lp, re in zip(ep_logits, advantage_returns):\n",
    "        p_loss.append( - lp * re)\n",
    "    optim_policy.zero_grad() \n",
    "    #trying entropy regularization\n",
    "    loss = torch.stack(p_loss).sum() + 0.001*ep_entropies\n",
    "    loss.backward()\n",
    "    optim_policy.step()\n",
    "\n",
    "    \n",
    "    "
   ]
  },
  {
   "cell_type": "code",
   "execution_count": 9,
   "metadata": {},
   "outputs": [],
   "source": [
    "def train(env):\n",
    "    gamma = 0.99\n",
    "    max_episodes = 2000\n",
    "    max_steps = 10000\n",
    "    running_reward = 0\n",
    "    plot_rewards = []\n",
    "    for ep in range(max_episodes):\n",
    "        ep_rewards =[]\n",
    "        ep_logits = []\n",
    "        ep_entropies = []\n",
    "\n",
    "        current_reward = 0\n",
    "        state = env.reset()\n",
    "        \n",
    "        for step in range(max_steps):\n",
    "            #print(type(state))\n",
    "            state = torch.from_numpy(state).float().unsqueeze(0)\n",
    "            policy_softmax = p_net.forward(state)\n",
    "            \n",
    "            #Sample next action with current stochastic policy\n",
    "            \n",
    "            dist_obj = Categorical(policy_softmax)\n",
    "            action = dist_obj.sample()\n",
    "            #calculate log probability\n",
    "            log_prob = dist_obj.log_prob(action)\n",
    "            #calculate entropy\n",
    "            entropy = torch.sum(-policy_softmax*torch.log(policy_softmax))\n",
    "            #Render environment with sampled action\n",
    "            state,reward,done,_ = env.step(action.item())\n",
    "            ep_rewards.append(reward)\n",
    "            ep_logits.append(log_prob)\n",
    "            ep_entropies.append(entropy)\n",
    "            current_reward += reward\n",
    "            if done:\n",
    "                break\n",
    "            \n",
    "        running_reward = 0.05 * current_reward + (1 - 0.05) * running_reward\n",
    "        if ep%100==0:\n",
    "            print(\"Running reward = \",running_reward)\n",
    "        plot_rewards.append(running_reward)\n",
    "        #Update the parameters\n",
    "        update_gradients(gamma,ep_rewards,ep_logits,sum(ep_entropies))\n",
    "        \n",
    "        writer.add_scalar(\"Reward \",running_reward)\n",
    "        if running_reward >env.spec.reward_threshold:\n",
    "            print(\"Solved in \",ep)\n",
    "    return plot_rewards\n",
    "    \n",
    "        \n",
    "            \n",
    "            \n",
    "            \n",
    "        \n",
    "        "
   ]
  },
  {
   "cell_type": "markdown",
   "metadata": {},
   "source": [
    "### Initiate"
   ]
  },
  {
   "cell_type": "code",
   "execution_count": null,
   "metadata": {
    "scrolled": true
   },
   "outputs": [],
   "source": [
    "p_net = PolicyNetwork(8,4,512)\n",
    "optim_policy= optim.Adam(p_net.parameters(), lr=9e-4)\n",
    "writer = SummaryWriter()\n",
    "env = gym.make('LunarLander-v2')\n",
    "env.seed(223)\n",
    "plot_rewards = train(env)\n",
    "writer.flush()\n",
    "env.close()"
   ]
  },
  {
   "cell_type": "markdown",
   "metadata": {},
   "source": [
    "### Plot"
   ]
  },
  {
   "cell_type": "code",
   "execution_count": 11,
   "metadata": {},
   "outputs": [
    {
     "data": {
      "image/png": "[encoded data removed]",
      "text/plain": [
       "<Figure size 432x288 with 1 Axes>"
      ]
     },
     "metadata": {
      "needs_background": "light"
     },
     "output_type": "display_data"
    }
   ],
   "source": [
    "plt.plot(np.arange(0,2000),plot_rewards)\n",
    "plt.plot(np.arange(0,2000),pd.Series(plot_rewards).rolling(100).mean())\n",
    "plt.show()"
   ]
  },
  {
   "cell_type": "markdown",
   "metadata": {},
   "source": [
    "### Test"
   ]
  },
  {
   "cell_type": "code",
   "execution_count": 12,
   "metadata": {},
   "outputs": [],
   "source": [
    "        \n",
    "def render_play(env):\n",
    "    env = wrappers.Monitor(env, '/tmp/lunar-lander-6', video_callable=lambda episode_id: True,force=True)\n",
    "    max_episodes = 20\n",
    "    max_steps = 9000\n",
    "    for ep in range(max_episodes):\n",
    "        state=env.reset()\n",
    "        current_reward = 0\n",
    "        print(\"episode number = \",ep)\n",
    "        for step in range(max_steps):\n",
    "            #print(type(state))\n",
    "            state = torch.from_numpy(state).float().unsqueeze(0)\n",
    "            \n",
    "            policy_softmax = p_net(state)\n",
    "            \n",
    "            policy_softmax = p_net.forward(state)\n",
    "            \n",
    "            #Sample next action with current stochastic policy\n",
    "            \n",
    "            dist_obj = Categorical(policy_softmax)\n",
    "            action = dist_obj.sample()\n",
    "            state,reward,done,_ = env.step(action.item())\n",
    "            current_reward += reward\n",
    "            if done:\n",
    "                break\n",
    "        print(\"Reward = \",current_reward)"
   ]
  },
  {
   "cell_type": "code",
   "execution_count": 13,
   "metadata": {},
   "outputs": [
    {
     "name": "stdout",
     "output_type": "stream",
     "text": [
      "episode number =  0\n",
      "Reward =  280.829550136345\n",
      "episode number =  1\n",
      "Reward =  255.98444725443008\n",
      "episode number =  2\n",
      "Reward =  255.9316935599952\n",
      "episode number =  3\n",
      "Reward =  256.6205875439325\n",
      "episode number =  4\n",
      "Reward =  22.189455275640555\n",
      "episode number =  5\n",
      "Reward =  233.20485724254482\n",
      "episode number =  6\n",
      "Reward =  -201.87405204223595\n",
      "episode number =  7\n",
      "Reward =  228.48498992998336\n",
      "episode number =  8\n",
      "Reward =  237.65472066756797\n",
      "episode number =  9\n",
      "Reward =  211.06045972474678\n",
      "episode number =  10\n",
      "Reward =  -29.31167449814454\n",
      "episode number =  11\n",
      "Reward =  260.3372162469568\n",
      "episode number =  12\n",
      "Reward =  250.20996310142368\n",
      "episode number =  13\n",
      "Reward =  201.26934205814308\n",
      "episode number =  14\n",
      "Reward =  235.9691922720375\n",
      "episode number =  15\n",
      "Reward =  267.20388408327364\n",
      "episode number =  16\n",
      "Reward =  239.08434153116917\n",
      "episode number =  17\n",
      "Reward =  269.23908421189884\n",
      "episode number =  18\n",
      "Reward =  259.8437263389758\n",
      "episode number =  19\n",
      "Reward =  253.6935681448371\n"
     ]
    }
   ],
   "source": [
    "# See agent in action on different env seed (perfomance maybe bad in some episodes*)\n",
    "env = gym.make('LunarLander-v2')\n",
    "env.seed(203)\n",
    "render_play(env)\n",
    "env.close()"
   ]
  },
  {
   "cell_type": "code",
   "execution_count": null,
   "metadata": {},
   "outputs": [],
   "source": []
  }
 ],
 "metadata": {
  "kernelspec": {
   "display_name": "Python 3",
   "language": "python",
   "name": "python3"
  },
  "language_info": {
   "codemirror_mode": {
    "name": "ipython",
    "version": 3
   },
   "file_extension": ".py",
   "mimetype": "text/x-python",
   "name": "python",
   "nbconvert_exporter": "python",
   "pygments_lexer": "ipython3",
   "version": "3.7.3"
  }
 },
 "nbformat": 4,
 "nbformat_minor": 4
}
